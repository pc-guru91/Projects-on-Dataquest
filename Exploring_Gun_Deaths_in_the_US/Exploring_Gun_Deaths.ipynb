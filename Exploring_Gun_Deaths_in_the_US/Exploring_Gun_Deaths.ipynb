{
 "cells": [
  {
   "cell_type": "code",
   "execution_count": 2,
   "metadata": {
    "collapsed": true
   },
   "outputs": [],
   "source": [
    "import csv\n",
    "import datetime\n",
    "f = open('guns.csv', 'r')\n",
    "data = list(csv.reader(f))"
   ]
  },
  {
   "cell_type": "code",
   "execution_count": 3,
   "metadata": {
    "collapsed": false
   },
   "outputs": [
    {
     "name": "stdout",
     "output_type": "stream",
     "text": [
      "['', 'year', 'month', 'intent', 'police', 'sex', 'age', 'race', 'hispanic', 'place', 'education']\n",
      "['1', '2012', '01', 'Suicide', '0', 'M', '34', 'Asian/Pacific Islander', '100', 'Home', '4']\n",
      "['2', '2012', '01', 'Suicide', '0', 'F', '21', 'White', '100', 'Street', '3']\n",
      "['3', '2012', '01', 'Suicide', '0', 'M', '60', 'White', '100', 'Other specified', '4']\n",
      "['4', '2012', '02', 'Suicide', '0', 'M', '64', 'White', '100', 'Home', '4']\n"
     ]
    }
   ],
   "source": [
    "for row in data[:5]:\n",
    "    print(row)"
   ]
  },
  {
   "cell_type": "code",
   "execution_count": 4,
   "metadata": {
    "collapsed": false,
    "scrolled": false
   },
   "outputs": [
    {
     "name": "stdout",
     "output_type": "stream",
     "text": [
      "['', 'year', 'month', 'intent', 'police', 'sex', 'age', 'race', 'hispanic', 'place', 'education']\n"
     ]
    }
   ],
   "source": [
    "headers = data[0]\n",
    "data = data[1:]\n",
    "print(headers)"
   ]
  },
  {
   "cell_type": "code",
   "execution_count": 5,
   "metadata": {
    "collapsed": false,
    "scrolled": false
   },
   "outputs": [
    {
     "name": "stdout",
     "output_type": "stream",
     "text": [
      "['1', '2012', '01', 'Suicide', '0', 'M', '34', 'Asian/Pacific Islander', '100', 'Home', '4']\n",
      "['2', '2012', '01', 'Suicide', '0', 'F', '21', 'White', '100', 'Street', '3']\n",
      "['3', '2012', '01', 'Suicide', '0', 'M', '60', 'White', '100', 'Other specified', '4']\n",
      "['4', '2012', '02', 'Suicide', '0', 'M', '64', 'White', '100', 'Home', '4']\n",
      "['5', '2012', '02', 'Suicide', '0', 'M', '31', 'White', '100', 'Other specified', '2']\n"
     ]
    }
   ],
   "source": [
    "for row in data[:5]:\n",
    "    print(row)"
   ]
  },
  {
   "cell_type": "code",
   "execution_count": 6,
   "metadata": {
    "collapsed": false
   },
   "outputs": [],
   "source": [
    "dates = [datetime.datetime(year=int(row[1]), month=int(row[2]), day=1) for row in data]"
   ]
  },
  {
   "cell_type": "code",
   "execution_count": 7,
   "metadata": {
    "collapsed": false
   },
   "outputs": [
    {
     "name": "stdout",
     "output_type": "stream",
     "text": [
      "2012-01-01 00:00:00\n",
      "2012-01-01 00:00:00\n",
      "2012-01-01 00:00:00\n",
      "2012-02-01 00:00:00\n",
      "2012-02-01 00:00:00\n"
     ]
    }
   ],
   "source": [
    "for date in dates[:5]:\n",
    "    print(date)"
   ]
  },
  {
   "cell_type": "code",
   "execution_count": 59,
   "metadata": {
    "collapsed": false
   },
   "outputs": [],
   "source": [
    "def time_counts(time_unit):\n",
    "    counts = {}\n",
    "    if time_unit == 'date':\n",
    "        for date in dates:\n",
    "            counts[date] = counts.get(date, 0) + 1\n",
    "    else:\n",
    "        for date in dates:\n",
    "            counts[getattr(date, time_unit)] = counts.get(getattr(date, time_unit), 0) + 1\n",
    "    return counts"
   ]
  },
  {
   "cell_type": "code",
   "execution_count": 60,
   "metadata": {
    "collapsed": false
   },
   "outputs": [],
   "source": [
    "date_counts = time_counts('date')\n",
    "year_counts = time_counts('year')"
   ]
  },
  {
   "cell_type": "code",
   "execution_count": 61,
   "metadata": {
    "collapsed": false,
    "scrolled": true
   },
   "outputs": [
    {
     "data": {
      "text/plain": [
       "{datetime.datetime(2012, 1, 1, 0, 0): 2758,\n",
       " datetime.datetime(2012, 2, 1, 0, 0): 2357,\n",
       " datetime.datetime(2012, 3, 1, 0, 0): 2743,\n",
       " datetime.datetime(2012, 4, 1, 0, 0): 2795,\n",
       " datetime.datetime(2012, 5, 1, 0, 0): 2999,\n",
       " datetime.datetime(2012, 6, 1, 0, 0): 2826,\n",
       " datetime.datetime(2012, 7, 1, 0, 0): 3026,\n",
       " datetime.datetime(2012, 8, 1, 0, 0): 2954,\n",
       " datetime.datetime(2012, 9, 1, 0, 0): 2852,\n",
       " datetime.datetime(2012, 10, 1, 0, 0): 2733,\n",
       " datetime.datetime(2012, 11, 1, 0, 0): 2729,\n",
       " datetime.datetime(2012, 12, 1, 0, 0): 2791,\n",
       " datetime.datetime(2013, 1, 1, 0, 0): 2864,\n",
       " datetime.datetime(2013, 2, 1, 0, 0): 2375,\n",
       " datetime.datetime(2013, 3, 1, 0, 0): 2862,\n",
       " datetime.datetime(2013, 4, 1, 0, 0): 2798,\n",
       " datetime.datetime(2013, 5, 1, 0, 0): 2806,\n",
       " datetime.datetime(2013, 6, 1, 0, 0): 2920,\n",
       " datetime.datetime(2013, 7, 1, 0, 0): 3079,\n",
       " datetime.datetime(2013, 8, 1, 0, 0): 2859,\n",
       " datetime.datetime(2013, 9, 1, 0, 0): 2742,\n",
       " datetime.datetime(2013, 10, 1, 0, 0): 2808,\n",
       " datetime.datetime(2013, 11, 1, 0, 0): 2758,\n",
       " datetime.datetime(2013, 12, 1, 0, 0): 2765,\n",
       " datetime.datetime(2014, 1, 1, 0, 0): 2651,\n",
       " datetime.datetime(2014, 2, 1, 0, 0): 2361,\n",
       " datetime.datetime(2014, 3, 1, 0, 0): 2684,\n",
       " datetime.datetime(2014, 4, 1, 0, 0): 2862,\n",
       " datetime.datetime(2014, 5, 1, 0, 0): 2864,\n",
       " datetime.datetime(2014, 6, 1, 0, 0): 2931,\n",
       " datetime.datetime(2014, 7, 1, 0, 0): 2884,\n",
       " datetime.datetime(2014, 8, 1, 0, 0): 2970,\n",
       " datetime.datetime(2014, 9, 1, 0, 0): 2914,\n",
       " datetime.datetime(2014, 10, 1, 0, 0): 2865,\n",
       " datetime.datetime(2014, 11, 1, 0, 0): 2756,\n",
       " datetime.datetime(2014, 12, 1, 0, 0): 2857}"
      ]
     },
     "execution_count": 61,
     "metadata": {},
     "output_type": "execute_result"
    }
   ],
   "source": [
    "date_counts"
   ]
  },
  {
   "cell_type": "code",
   "execution_count": 62,
   "metadata": {
    "collapsed": false
   },
   "outputs": [
    {
     "data": {
      "text/plain": [
       "{2012: 33563, 2013: 33636, 2014: 33599}"
      ]
     },
     "execution_count": 62,
     "metadata": {},
     "output_type": "execute_result"
    }
   ],
   "source": [
    "year_counts"
   ]
  },
  {
   "cell_type": "code",
   "execution_count": 63,
   "metadata": {
    "collapsed": false
   },
   "outputs": [
    {
     "data": {
      "text/plain": [
       "['',\n",
       " 'year',\n",
       " 'month',\n",
       " 'intent',\n",
       " 'police',\n",
       " 'sex',\n",
       " 'age',\n",
       " 'race',\n",
       " 'hispanic',\n",
       " 'place',\n",
       " 'education']"
      ]
     },
     "execution_count": 63,
     "metadata": {},
     "output_type": "execute_result"
    }
   ],
   "source": [
    "headers"
   ]
  },
  {
   "cell_type": "code",
   "execution_count": 77,
   "metadata": {
    "collapsed": true
   },
   "outputs": [],
   "source": [
    "def index_col(col_name, headers):\n",
    "    for idx, name in enumerate(headers):\n",
    "        if col_name == name:\n",
    "            return idx\n",
    "def column_counts(col_name):\n",
    "    counts = {}\n",
    "    col_idx = index_col(col_name)\n",
    "    for row in data:\n",
    "        counts[row[col_idx]] = counts.get(row[col_idx], 0) + 1\n",
    "    return counts"
   ]
  },
  {
   "cell_type": "code",
   "execution_count": 65,
   "metadata": {
    "collapsed": false
   },
   "outputs": [],
   "source": [
    "sex_counts = column_counts('sex')\n",
    "race_counts = column_counts('race')"
   ]
  },
  {
   "cell_type": "code",
   "execution_count": 66,
   "metadata": {
    "collapsed": false
   },
   "outputs": [
    {
     "data": {
      "text/plain": [
       "{'F': 14449, 'M': 86349}"
      ]
     },
     "execution_count": 66,
     "metadata": {},
     "output_type": "execute_result"
    }
   ],
   "source": [
    "sex_counts"
   ]
  },
  {
   "cell_type": "code",
   "execution_count": 67,
   "metadata": {
    "collapsed": false
   },
   "outputs": [
    {
     "data": {
      "text/plain": [
       "{'Asian/Pacific Islander': 1326,\n",
       " 'Black': 23296,\n",
       " 'Hispanic': 9022,\n",
       " 'Native American/Native Alaskan': 917,\n",
       " 'White': 66237}"
      ]
     },
     "execution_count": 67,
     "metadata": {},
     "output_type": "execute_result"
    }
   ],
   "source": [
    "race_counts"
   ]
  },
  {
   "cell_type": "code",
   "execution_count": 147,
   "metadata": {
    "collapsed": false,
    "scrolled": true
   },
   "outputs": [
    {
     "data": {
      "text/plain": [
       "[['Id',\n",
       "  'Year',\n",
       "  'Id',\n",
       "  'Sex',\n",
       "  'Id',\n",
       "  'Hispanic Origin',\n",
       "  'Id',\n",
       "  'Id2',\n",
       "  'Geography',\n",
       "  'Total',\n",
       "  'Race Alone - White',\n",
       "  'Race Alone - Hispanic',\n",
       "  'Race Alone - Black or African American',\n",
       "  'Race Alone - American Indian and Alaska Native',\n",
       "  'Race Alone - Asian',\n",
       "  'Race Alone - Native Hawaiian and Other Pacific Islander',\n",
       "  'Two or More Races'],\n",
       " ['cen42010',\n",
       "  'April 1, 2010 Census',\n",
       "  'totsex',\n",
       "  'Both Sexes',\n",
       "  'tothisp',\n",
       "  'Total',\n",
       "  '0100000US',\n",
       "  '',\n",
       "  'United States',\n",
       "  '308745538',\n",
       "  '197318956',\n",
       "  '44618105',\n",
       "  '40250635',\n",
       "  '3739506',\n",
       "  '15159516',\n",
       "  '674625',\n",
       "  '6984195']]"
      ]
     },
     "execution_count": 147,
     "metadata": {},
     "output_type": "execute_result"
    }
   ],
   "source": [
    "census = list(csv.reader(open('census.csv', 'r')))\n",
    "census_headers = census[0]\n",
    "census"
   ]
  },
  {
   "cell_type": "code",
   "execution_count": 149,
   "metadata": {
    "collapsed": false
   },
   "outputs": [
    {
     "data": {
      "text/plain": [
       "{'Asian/Pacific Islander': ['Race Alone - Asian',\n",
       "  'Race Alone - Native Hawaiian and Other Pacific Islander'],\n",
       " 'Black': 'Race Alone - Black or African American',\n",
       " 'Hispanic': 'Race Alone - Hispanic',\n",
       " 'Native American/Native Alaskan': 'Race Alone - American Indian and Alaska Native',\n",
       " 'White': 'Race Alone - White'}"
      ]
     },
     "execution_count": 149,
     "metadata": {},
     "output_type": "execute_result"
    }
   ],
   "source": [
    "mapping_name = {'Asian/Pacific Islander': ['Race Alone - Asian', 'Race Alone - Native Hawaiian and Other Pacific Islander'], 'Black': 'Race Alone - Black or African American', 'Hispanic': 'Race Alone - Hispanic', 'Native American/Native Alaskan': 'Race Alone - American Indian and Alaska Native', 'White': 'Race Alone - White'}\n",
    "mapping_name"
   ]
  },
  {
   "cell_type": "code",
   "execution_count": 155,
   "metadata": {
    "collapsed": false
   },
   "outputs": [
    {
     "data": {
      "text/plain": [
       "{'Asian/Pacific Islander': 15834141,\n",
       " 'Black': 40250635,\n",
       " 'Hispanic': 44618105,\n",
       " 'Native American/Native Alaskan': 3739506,\n",
       " 'White': 197318956}"
      ]
     },
     "execution_count": 155,
     "metadata": {},
     "output_type": "execute_result"
    }
   ],
   "source": [
    "mapping = {}\n",
    "for race in mapping_name:\n",
    "    if race == 'Asian/Pacific Islander':\n",
    "        pop_total = int(census[1][index_col(mapping_name[race][0], census_headers)]) + int(census[1][index_col(mapping_name[race][1], census_headers)])\n",
    "        mapping[race] = pop_total\n",
    "    else:\n",
    "        mapping[race] = int(census[1][index_col(mapping_name[race], census_headers)])\n",
    "mapping"
   ]
  },
  {
   "cell_type": "code",
   "execution_count": 156,
   "metadata": {
    "collapsed": false
   },
   "outputs": [],
   "source": [
    "race_per_hundredk = {}\n",
    "for race in race_counts:\n",
    "    race_per_hundredk[race] = race_counts[race]/mapping[race]*100000"
   ]
  },
  {
   "cell_type": "code",
   "execution_count": 157,
   "metadata": {
    "collapsed": false
   },
   "outputs": [
    {
     "data": {
      "text/plain": [
       "{'Asian/Pacific Islander': 8.374309664161762,\n",
       " 'Black': 57.8773477735196,\n",
       " 'Hispanic': 20.220491210910907,\n",
       " 'Native American/Native Alaskan': 24.521955573811088,\n",
       " 'White': 33.56849303419181}"
      ]
     },
     "execution_count": 157,
     "metadata": {},
     "output_type": "execute_result"
    }
   ],
   "source": [
    "race_per_hundredk"
   ]
  },
  {
   "cell_type": "code",
   "execution_count": 161,
   "metadata": {
    "collapsed": false,
    "scrolled": true
   },
   "outputs": [
    {
     "data": {
      "text/plain": [
       "{'Asian/Pacific Islander': 559,\n",
       " 'Black': 19510,\n",
       " 'Hispanic': 5634,\n",
       " 'Native American/Native Alaskan': 326,\n",
       " 'White': 9147}"
      ]
     },
     "execution_count": 161,
     "metadata": {},
     "output_type": "execute_result"
    }
   ],
   "source": [
    "intents = [row[3] for row in data]\n",
    "races = [row[7] for row in data]\n",
    "homicide_race_counts = {}\n",
    "for idx, race in enumerate(races):\n",
    "    if intents[idx] == 'Homicide':\n",
    "        homicide_race_counts[race] = homicide_race_counts.get(race, 0) + 1\n",
    "homicide_race_counts"
   ]
  },
  {
   "cell_type": "code",
   "execution_count": 162,
   "metadata": {
    "collapsed": false
   },
   "outputs": [
    {
     "data": {
      "text/plain": [
       "{'Asian/Pacific Islander': 3.530346230970155,\n",
       " 'Black': 48.471284987180944,\n",
       " 'Hispanic': 12.627161104219914,\n",
       " 'Native American/Native Alaskan': 8.717729026240365,\n",
       " 'White': 4.6356417981453335}"
      ]
     },
     "execution_count": 162,
     "metadata": {},
     "output_type": "execute_result"
    }
   ],
   "source": [
    "homicide_race_counts_per_hundredk = {}\n",
    "for k, v in homicide_race_counts:\n",
    "    homicide_race_counts_per_hundredk[k] = v / mapping[k] * 100000\n",
    "homicide_race_counts_per_hundredk "
   ]
  },
  {
   "cell_type": "code",
   "execution_count": null,
   "metadata": {
    "collapsed": true
   },
   "outputs": [],
   "source": []
  }
 ],
 "metadata": {
  "kernelspec": {
   "display_name": "Python 3",
   "language": "python",
   "name": "python3"
  },
  "language_info": {
   "codemirror_mode": {
    "name": "ipython",
    "version": 3
   },
   "file_extension": ".py",
   "mimetype": "text/x-python",
   "name": "python",
   "nbconvert_exporter": "python",
   "pygments_lexer": "ipython3",
   "version": "3.4.3"
  }
 },
 "nbformat": 4,
 "nbformat_minor": 0
}
